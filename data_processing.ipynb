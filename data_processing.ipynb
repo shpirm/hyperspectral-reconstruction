{
 "cells": [
  {
   "cell_type": "code",
   "execution_count": 10,
   "metadata": {},
   "outputs": [],
   "source": [
    "import os\n",
    "import scipy\n",
    "import numpy as np\n",
    "\n",
    "from PIL import Image\n",
    "import cv2\n",
    "import mat73"
   ]
  },
  {
   "cell_type": "code",
   "execution_count": 11,
   "metadata": {},
   "outputs": [],
   "source": [
    "FORMAT = 512, 482\n",
    "PATH_RES = r'data_cleaned'\n",
    "\n",
    "num = 0"
   ]
  },
  {
   "cell_type": "code",
   "execution_count": 12,
   "metadata": {},
   "outputs": [],
   "source": [
    "def add_spectral_hs_data(PATH, PATH_RES):\n",
    "    file_list = os.listdir(PATH)\n",
    "\n",
    "    for f in range(len(file_list)): \n",
    "        fpath = os.path.join(PATH, file_list[f])\n",
    "\n",
    "        mat_file = scipy.io.loadmat(fpath)\n",
    "        mat_data = mat_file['cube']  \n",
    "\n",
    "        res = np.swapaxes(mat_data, 0, 2)\n",
    "        res = np.swapaxes(res, 2, 1)\n",
    "\n",
    "        for i in range(len(res)):\n",
    "            im = Image.fromarray(res[i])\n",
    "            im.save(os.path.join(PATH_RES, str(f + num) + '_' + str(i) + '_ARAD-HS.tiff'))"
   ]
  },
  {
   "cell_type": "code",
   "execution_count": 13,
   "metadata": {},
   "outputs": [],
   "source": [
    "def add_rgb_hs_data(PATH, PATH_RES):\n",
    "    global num\n",
    "    file_list = os.listdir(PATH)\n",
    "\n",
    "    for f in range(len(file_list)):\n",
    "        im = Image.open(os.path.join(PATH, file_list[f]))\n",
    "        im.save(os.path.join(PATH_RES, str(f + num) + '_ARAD-HS.png'))\n",
    "\n",
    "    num = int(len(os.listdir(PATH_RES)) / 32)"
   ]
  },
  {
   "cell_type": "code",
   "execution_count": 14,
   "metadata": {},
   "outputs": [],
   "source": [
    "add_spectral_hs_data(r'data\\NTIRE2020_Train_Spectral', PATH_RES)\n",
    "add_rgb_hs_data(r'data\\NTIRE2020_Train_Clean', PATH_RES)\n",
    "\n",
    "add_spectral_hs_data(r'data\\NTIRE2020_Validation_Spectral', PATH_RES)\n",
    "add_rgb_hs_data(r'data\\NTIRE2020_Validation_Clean', PATH_RES)"
   ]
  },
  {
   "cell_type": "code",
   "execution_count": 15,
   "metadata": {},
   "outputs": [],
   "source": [
    "PATH = r'data\\complete_ms_data'\n",
    "directory_list = os.listdir(PATH)\n",
    "\n",
    "for d in range(len(directory_list) - 1):\n",
    "    dpath = os.path.join(PATH, directory_list[d])\n",
    "    dpath = os.path.join(dpath, directory_list[d])\n",
    "\n",
    "    file_list = os.listdir(dpath)\n",
    "\n",
    "    for f in range(len(file_list[:-2])): \n",
    "        image = cv2.imread(os.path.join(dpath, file_list[f]))\n",
    "        image = image[:FORMAT[1], :FORMAT[0]]\n",
    "\n",
    "        cv2.imwrite(os.path.join(PATH_RES, str(d + num) + '_' + str(f) + '_CAVE.tiff'), image)\n",
    "\n",
    "    image = cv2.imread(os.path.join(dpath, file_list[-2]))\n",
    "    image = image[:FORMAT[1], :FORMAT[0]]\n",
    "    cv2.imwrite(os.path.join(PATH_RES, str(d + num) + '_CAVE.png'), image)\n",
    "\n",
    "num = int(len(os.listdir(PATH_RES)) / 32)"
   ]
  },
  {
   "cell_type": "code",
   "execution_count": 16,
   "metadata": {},
   "outputs": [],
   "source": [
    "def add_spectral_hs2018_data(PATH, PATH_RES):\n",
    "    local_num = int(len(os.listdir(PATH_RES)) / 32)\n",
    "    \n",
    "    file_list = os.listdir(PATH)\n",
    "\n",
    "    for f in range(len(file_list)): \n",
    "        fpath = os.path.join(PATH, file_list[f])\n",
    "\n",
    "        mat_file = mat73.loadmat(fpath)\n",
    "        mat_data = mat_file['rad']  \n",
    "\n",
    "        res = np.swapaxes(mat_data, 0, 2)\n",
    "        res = np.swapaxes(res, 2, 1)\n",
    "\n",
    "        for i in range(len(res)):\n",
    "            \n",
    "            res[i] = cv2.normalize(res[i],  np.zeros(FORMAT), 0, 1, cv2.NORM_MINMAX)\n",
    "\n",
    "            images = [res[i][x * FORMAT[1]: (x + 1) * FORMAT[1], y * FORMAT[0]: (y + 1) * FORMAT[0]] for x in range(2) for y in range(2)]\n",
    "\n",
    "            for im in range(len(images)):\n",
    "                image = Image.fromarray(images[im])\n",
    "                image.save(os.path.join(PATH_RES, str(f + local_num + im) + '_' + str(i) + '_BGU-HS.tiff'))\n",
    "\n",
    "        local_num += 3"
   ]
  },
  {
   "cell_type": "code",
   "execution_count": 17,
   "metadata": {},
   "outputs": [],
   "source": [
    "def add_rgb_hs2018_data(PATH, PATH_RES):\n",
    "    global num\n",
    "    file_list = os.listdir(PATH)\n",
    "\n",
    "    for f in range(len(file_list)):\n",
    "        im = Image.open(os.path.join(PATH, file_list[f]))\n",
    "        im = np.array(im)\n",
    "        images = [im[x * FORMAT[1]: (x + 1) * FORMAT[1], y * FORMAT[0]: (y + 1) * FORMAT[0]] for x in range(2) for y in range(2)]\n",
    "\n",
    "        for im in range(len(images)):\n",
    "            image = Image.fromarray(images[im])\n",
    "            image.save(os.path.join(PATH_RES, str(f + num  + im) + '_BGU-HS.png'))\n",
    "        num += 3\n",
    "\n",
    "    num = int(len(os.listdir(PATH_RES)) / 32)"
   ]
  },
  {
   "cell_type": "code",
   "execution_count": 18,
   "metadata": {},
   "outputs": [],
   "source": [
    "add_spectral_hs2018_data(r'data\\NTIRE2018_Train1_Spectral', PATH_RES)\n",
    "add_rgb_hs2018_data(r'data\\NTIRE2018_Train1_Clean', PATH_RES)\n",
    "\n",
    "add_spectral_hs2018_data(r'data\\NTIRE2018_Train2_Spectral', PATH_RES)\n",
    "add_rgb_hs2018_data(r'data\\NTIRE2018_Train2_Clean', PATH_RES)\n",
    "\n",
    "add_spectral_hs2018_data(r'data\\NTIRE2018_Validate_Spectral', PATH_RES)\n",
    "add_rgb_hs2018_data(r'data\\NTIRE2018_Validate_Clean', PATH_RES)"
   ]
  }
 ],
 "metadata": {
  "kernelspec": {
   "display_name": "Python 3 (ipykernel)",
   "language": "python",
   "name": "python3"
  },
  "language_info": {
   "codemirror_mode": {
    "name": "ipython",
    "version": 3
   },
   "file_extension": ".py",
   "mimetype": "text/x-python",
   "name": "python",
   "nbconvert_exporter": "python",
   "pygments_lexer": "ipython3",
   "version": "3.10.0"
  },
  "vscode": {
   "interpreter": {
    "hash": "2f258f6323702ae8e632b4381f8f06fcabd939bb02adf14c829010d0aaa3a2cd"
   }
  }
 },
 "nbformat": 4,
 "nbformat_minor": 2
}
